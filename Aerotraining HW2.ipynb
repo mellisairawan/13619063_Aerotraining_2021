{
 "cells": [
  {
   "cell_type": "markdown",
   "metadata": {},
   "source": [
    "# Rayleigh Flow Calculator"
   ]
  },
  {
   "cell_type": "code",
   "execution_count": 1,
   "metadata": {},
   "outputs": [],
   "source": [
    "class RayleighFlow:\n",
    "    def __init__(self, Mach, gamma = 1.4, R = 287):\n",
    "        self.Mach = Mach\n",
    "        self.gamma = gamma\n",
    "        self.R = R \n",
    "        \n",
    "    def p_pstar(self):\n",
    "        return (self.gamma + 1)/((1 + self.gamma*(self.Mach)**2))\n",
    "    \n",
    "    def rho_rhostar(self):\n",
    "        return (1 + self.gamma*(self.Mach**2))/((self.gamma + 1)*(self.Mach**2))\n",
    "    \n",
    "    def T_Tstar(self):\n",
    "        return (((self.gamma + 1)**2)*(self.Mach**2))/((self.gamma + 1)*(self.Mach**2))\n",
    "    \n",
    "    def v_vstar(self):\n",
    "        return ((self.gamma + 1)*(self.Mach**2))/(1 + self.gamma*(self.Mach**2))\n",
    "    \n",
    "    def p0_p0star(self):\n",
    "        return (self.gamma + 1)/((1 + self.gamma*(self.Mach**2))) * ((2/(self.gamma + 1))*(1 + 0.5*(self.gamma - 1)*(self.Mach**2)))**(self.gamma/(self.gamma - 1))"
   ]
  },
  {
   "cell_type": "code",
   "execution_count": 2,
   "metadata": {},
   "outputs": [],
   "source": [
    "# Define known variables, comment if not needed.\n",
    "Mach1 = 3 # Mach number at inlet\n",
    "T1 = 278 # Temperature at inlet, Kelvin\n",
    "p1 = 101.3 # Pressure at inlet, KPa\n",
    "\n",
    "Mach2 = 1.5 # Mach number at outlet\n",
    "#T2 = 278 # Temperature at outlet, Kelvin\n",
    "#p2 = 101.3 # Pressure at outlet, KPa"
   ]
  },
  {
   "cell_type": "code",
   "execution_count": 3,
   "metadata": {},
   "outputs": [
    {
     "name": "stdout",
     "output_type": "stream",
     "text": [
      "Temperature at inlet is 278.000 K\n",
      "Pressure at inlet is 101.300 KPa\n",
      "\n",
      "Temperature at outlet is 278.000 K\n",
      "Pressure at outlet is 331.971 KPa\n",
      "\n"
     ]
    }
   ],
   "source": [
    "point1 = RayleighFlow(Mach = Mach1)\n",
    "point2 = RayleighFlow(Mach = Mach2)\n",
    "\n",
    "#T1 = point1.T_Tstar() * (1/point2.T_Tstar()) * T2\n",
    "#p1 = point1.p_pstar() * (1/point2.p_pstar()) * p2\n",
    "print(f\"Temperature at inlet is {T1:.3f} K\")\n",
    "print(f\"Pressure at inlet is {p1:.3f} KPa\\n\")\n",
    "\n",
    "T2 = point2.T_Tstar() * (1/point1.T_Tstar()) * T1\n",
    "p2 = point2.p_pstar() * (1/point1.p_pstar()) * p1\n",
    "print(f\"Temperature at outlet is {T2:.3f} K\")\n",
    "print(f\"Pressure at outlet is {p2:.3f} KPa\\n\")"
   ]
  },
  {
   "cell_type": "code",
   "execution_count": null,
   "metadata": {},
   "outputs": [],
   "source": []
  }
 ],
 "metadata": {
  "kernelspec": {
   "display_name": "Python 3",
   "language": "python",
   "name": "python3"
  },
  "language_info": {
   "codemirror_mode": {
    "name": "ipython",
    "version": 3
   },
   "file_extension": ".py",
   "mimetype": "text/x-python",
   "name": "python",
   "nbconvert_exporter": "python",
   "pygments_lexer": "ipython3",
   "version": "3.8.5"
  }
 },
 "nbformat": 4,
 "nbformat_minor": 4
}
