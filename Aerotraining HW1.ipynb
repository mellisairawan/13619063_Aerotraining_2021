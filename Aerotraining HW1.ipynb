{
 "cells": [
  {
   "cell_type": "code",
   "execution_count": 18,
   "metadata": {},
   "outputs": [
    {
     "name": "stdout",
     "output_type": "stream",
     "text": [
      "Enter an integer: 10\n",
      "*\n",
      "**\n",
      "***\n",
      "****\n",
      "*****\n",
      "******\n",
      "*******\n",
      "********\n",
      "*********\n",
      "**********\n"
     ]
    }
   ],
   "source": [
    "# Hands On\n",
    "n = int(input(\"Enter an integer: \"))\n",
    "\n",
    "current_n = 1\n",
    "to_print = '*'\n",
    "while current_n <= n:\n",
    "    print(current_n * to_print)\n",
    "    current_n = current_n + 1"
   ]
  },
  {
   "cell_type": "code",
   "execution_count": 3,
   "metadata": {},
   "outputs": [
    {
     "name": "stdout",
     "output_type": "stream",
     "text": [
      "3 Buzz\n",
      "5 Fizz\n",
      "6 Buzz\n",
      "9 Buzz\n",
      "10 Fizz\n",
      "12 Buzz\n",
      "15 BuzzFizz\n",
      "18 Buzz\n",
      "20 Fizz\n",
      "21 Buzz\n",
      "24 Buzz\n",
      "25 Fizz\n",
      "27 Buzz\n",
      "30 BuzzFizz\n",
      "33 Buzz\n",
      "35 Fizz\n",
      "36 Buzz\n",
      "39 Buzz\n",
      "40 Fizz\n",
      "42 Buzz\n",
      "45 BuzzFizz\n",
      "48 Buzz\n",
      "50 Fizz\n",
      "51 Buzz\n",
      "54 Buzz\n",
      "55 Fizz\n",
      "57 Buzz\n",
      "60 BuzzFizz\n",
      "63 Buzz\n",
      "65 Fizz\n",
      "66 Buzz\n",
      "69 Buzz\n",
      "70 Fizz\n",
      "72 Buzz\n",
      "75 BuzzFizz\n",
      "78 Buzz\n",
      "80 Fizz\n",
      "81 Buzz\n",
      "84 Buzz\n",
      "85 Fizz\n",
      "87 Buzz\n",
      "90 BuzzFizz\n",
      "93 Buzz\n",
      "95 Fizz\n",
      "96 Buzz\n",
      "99 Buzz\n",
      "100 Fizz\n"
     ]
    }
   ],
   "source": [
    "# No. 1\n",
    "# The number is also printed to help verifying.\n",
    "\n",
    "for n in range (1,101): #create list from 1 until 100\n",
    "    if (n % 3 == 0) & (n % 5 == 0): #check whether the number is multiple of 3*5\n",
    "        print(str(n) + \" BuzzFizz\") #if true, then print \"BuzzFizz\"\n",
    "    elif n % 3 == 0: #check whether the number is only multiple of 3\n",
    "        print(str(n) + \" Buzz\") #if true, then print \"Buzz\"\n",
    "    elif n % 5 == 0: #check whether the number is only multiple of 5\n",
    "        print(str(n) + \" Fizz\") #if true, then print \"Fizz\""
   ]
  },
  {
   "cell_type": "code",
   "execution_count": 49,
   "metadata": {},
   "outputs": [
    {
     "name": "stdout",
     "output_type": "stream",
     "text": [
      "Determining palindrome\n",
      "Input: Ditartrated\n",
      "Output: No\n"
     ]
    }
   ],
   "source": [
    "# No 2\n",
    "# Determine Palindrome\n",
    "print(\"Determining palindrome\")\n",
    "s = input(\"Input: \") \n",
    "s = s.lower()\n",
    "\n",
    "for index in range(0, int((len(s)/2))):\n",
    "    if s[index] != s[len(s)-index-1]: \n",
    "        output = \"No\"\n",
    "        break\n",
    "    else: output = \"Yes\"\n",
    "\n",
    "print(f\"Output: {output}\")    \n",
    "\n",
    "# Ask user to input a word in variable 's' then loop  from first alphabet until len(s)/2 alphabet. \n",
    "# While looping, check whether the alphabets create a palindrome\n",
    "# If there is just one alphabet that is not similar to its corresponding alphabet, then program will output \"No\"\n",
    "# Example using \"Detartrated\" outputs \"Yes\"\n",
    "# Example using \"Ditartrated\" outputs \"No\""
   ]
  },
  {
   "cell_type": "code",
   "execution_count": null,
   "metadata": {},
   "outputs": [],
   "source": []
  }
 ],
 "metadata": {
  "kernelspec": {
   "display_name": "Python 3",
   "language": "python",
   "name": "python3"
  },
  "language_info": {
   "codemirror_mode": {
    "name": "ipython",
    "version": 3
   },
   "file_extension": ".py",
   "mimetype": "text/x-python",
   "name": "python",
   "nbconvert_exporter": "python",
   "pygments_lexer": "ipython3",
   "version": "3.8.5"
  }
 },
 "nbformat": 4,
 "nbformat_minor": 4
}
